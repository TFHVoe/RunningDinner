{
 "cells": [
  {
   "cell_type": "code",
   "execution_count": 5,
   "id": "ce1a2bd0",
   "metadata": {},
   "outputs": [
    {
     "name": "stdout",
     "output_type": "stream",
     "text": [
      "8128\n"
     ]
    }
   ],
   "source": [
    "import pandas as pd\n",
    "import numpy as np\n",
    "df = pd.read_excel('Running Dinner eerste oplossing 2023 v2.xlsx')\n",
    "\n",
    "#continue\n",
    "\n",
    "gebr_oplossing = dict()\n",
    "verwisselde_personen = []\n",
    "for i in range(len(df)):\n",
    "    for j in range(len(df)):\n",
    "        if i == j:\n",
    "            continue\n",
    "        else:\n",
    "            df_new = df.copy()\n",
    "            \n",
    "            changes = []\n",
    "            change1 = df.iloc[i,3]\n",
    "            change2 = df.iloc[j,3]      #De verwisseling van de twee cellen\n",
    "            df_new.iloc[j,3] = change1\n",
    "            df_new.iloc[i,3] = change2\n",
    "\n",
    "            \n",
    "            koppel = []\n",
    "            persoon1 = df.iloc[i,1]\n",
    "            persoon2 = df.iloc[j, 1]   #Het maken van een tuple met het verwisselde koppel en de gang.\n",
    "            koppel.append(persoon1)\n",
    "            koppel.append(persoon2)\n",
    "            koppel.append('Voor')\n",
    "\n",
    "            tup = tuple(sorted(koppel))\n",
    "            if tup not in verwisselde_personen:  #Het zorgen dat er alleen gekeken wordt naar unique oplossing door de verwisselde bewoners en de gang in een lijste te stoppen.\n",
    "                verwisselde_personen.append(tup)\n",
    "\n",
    "            \n",
    "            \n",
    "print(len(verwisselde_personen))\n"
   ]
  }
 ],
 "metadata": {
  "kernelspec": {
   "display_name": "Python 3 (ipykernel)",
   "language": "python",
   "name": "python3"
  },
  "language_info": {
   "codemirror_mode": {
    "name": "ipython",
    "version": 3
   },
   "file_extension": ".py",
   "mimetype": "text/x-python",
   "name": "python",
   "nbconvert_exporter": "python",
   "pygments_lexer": "ipython3",
   "version": "3.9.12"
  }
 },
 "nbformat": 4,
 "nbformat_minor": 5
}
